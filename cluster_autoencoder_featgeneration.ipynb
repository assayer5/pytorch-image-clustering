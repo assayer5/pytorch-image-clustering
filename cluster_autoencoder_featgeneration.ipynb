{
 "cells": [
  {
   "cell_type": "code",
   "execution_count": 1,
   "id": "79496df5",
   "metadata": {},
   "outputs": [],
   "source": [
    "from model import cnn_autoencoder\n",
    "from config import *\n",
    "\n",
    "import numpy as np \n",
    "import pandas as pd\n",
    "import glob\n",
    "import matplotlib.pyplot as plt\n",
    "\n",
    "import torch.nn as nn\n",
    "from torch.utils.data import DataLoader, Subset\n",
    "import torch.optim as optim\n",
    "\n",
    "import torchvision.datasets as datasets\n",
    "from torchvision import transforms"
   ]
  },
  {
   "cell_type": "code",
   "execution_count": 2,
   "id": "b217eeca",
   "metadata": {},
   "outputs": [],
   "source": [
    "# load data\n",
    "trans = transforms.ToTensor()\n",
    "dataset = datasets.MNIST(root='dataset/', train=True, transform=trans, download=True)"
   ]
  },
  {
   "cell_type": "code",
   "execution_count": 3,
   "id": "b0f30cb9",
   "metadata": {},
   "outputs": [
    {
     "name": "stdout",
     "output_type": "stream",
     "text": [
      "400\n"
     ]
    }
   ],
   "source": [
    "# get data subsets\n",
    "# get indicies of 5, 6, 8\n",
    "idx5 = [i for i, (_, label) in enumerate(dataset) if label == 5]\n",
    "idx6 = [i for i, (_, label) in enumerate(dataset) if label == 6]\n",
    "idx8 = [i for i, (_, label) in enumerate(dataset) if label == 8]\n",
    "idx9 = [i for i, (_, label) in enumerate(dataset) if label == 9]\n",
    "\n",
    "# create dataloaders\n",
    "five_loader = DataLoader(dataset=Subset(dataset, idx5[:-100]), batch_size=BATCH_SIZE, shuffle=True)\n",
    "six_loader = DataLoader(dataset=Subset(dataset, idx6[:-100]), batch_size=BATCH_SIZE, shuffle=True)\n",
    "eight_loader = DataLoader(dataset=Subset(dataset, idx8[:-100]), batch_size=BATCH_SIZE, shuffle=True)\n",
    "nine_loader = DataLoader(dataset=Subset(dataset, idx9[:-100]), batch_size=BATCH_SIZE, shuffle=True)\n",
    "\n",
    "idx5689 = np.hstack([idx5[-100:], idx6[-100:], idx8[-100:], idx9[-100:]])\n",
    "print(len(idx5689))\n",
    "test5689_loader = DataLoader(dataset=Subset(dataset, idx5689), batch_size=BATCH_SIZE, shuffle=False)"
   ]
  },
  {
   "cell_type": "code",
   "execution_count": 4,
   "id": "00918987",
   "metadata": {},
   "outputs": [
    {
     "data": {
      "text/plain": [
       "['.\\\\cnnae5_statedict.pt',\n",
       " '.\\\\cnnae6_statedict.pt',\n",
       " '.\\\\cnnae8_statedict.pt',\n",
       " '.\\\\cnnae9_statedict.pt']"
      ]
     },
     "execution_count": 4,
     "metadata": {},
     "output_type": "execute_result"
    }
   ],
   "source": [
    "# multiple models trained with different subsets of data\n",
    "# get state dicts from previous training\n",
    "sdfiles = glob.glob('./*.pt')\n",
    "sdfiles"
   ]
  },
  {
   "cell_type": "code",
   "execution_count": 5,
   "id": "851507ae",
   "metadata": {},
   "outputs": [],
   "source": [
    "# dataframe to store autoencoder 'scores'\n",
    "df = pd.DataFrame()\n",
    "\n",
    "# get scores for data under each model\n",
    "for i, f in enumerate(sdfiles):\n",
    "    # load weights from previous training\n",
    "    cnnmodel = cnn_autoencoder().to(DEVICE)\n",
    "    cnnmodel.load_state_dict(torch.load(f'./{f}', map_location=torch.device(DEVICE)))\n",
    "    loss_func = nn.MSELoss()\n",
    "    cnnmodel.eval()\n",
    "\n",
    "    # autoencoder evaluation loop\n",
    "    outputs = []\n",
    "    for (x, label) in test5689_loader:\n",
    "        # forward\n",
    "        x = x.to(DEVICE)\n",
    "        with torch.no_grad():\n",
    "            reconstructed_x = cnnmodel(x)\n",
    "\n",
    "        # compute losses, 'scores'\n",
    "        for item in range(len(x)):\n",
    "            loss = loss_func(reconstructed_x[item], x[item])\n",
    "            outputs.append((loss, x[item], reconstructed_x[item], label[item]))\n",
    "        \n",
    "    # store scores in dataframe\n",
    "    scores = np.hstack([outputs[n][0].cpu().numpy() for n in range(len(outputs))])\n",
    "    df[f'scores{i}'] = scores\n",
    "\n",
    "labels = np.hstack([outputs[i][3].cpu().numpy() for i in range(len(outputs))])\n",
    "df['labels'] = labels"
   ]
  },
  {
   "cell_type": "code",
   "execution_count": 6,
   "id": "8939157e",
   "metadata": {},
   "outputs": [
    {
     "data": {
      "text/html": [
       "<div>\n",
       "<style scoped>\n",
       "    .dataframe tbody tr th:only-of-type {\n",
       "        vertical-align: middle;\n",
       "    }\n",
       "\n",
       "    .dataframe tbody tr th {\n",
       "        vertical-align: top;\n",
       "    }\n",
       "\n",
       "    .dataframe thead th {\n",
       "        text-align: right;\n",
       "    }\n",
       "</style>\n",
       "<table border=\"1\" class=\"dataframe\">\n",
       "  <thead>\n",
       "    <tr style=\"text-align: right;\">\n",
       "      <th></th>\n",
       "      <th>scores0</th>\n",
       "      <th>scores1</th>\n",
       "      <th>scores2</th>\n",
       "      <th>scores3</th>\n",
       "      <th>labels</th>\n",
       "    </tr>\n",
       "  </thead>\n",
       "  <tbody>\n",
       "    <tr>\n",
       "      <th>0</th>\n",
       "      <td>0.015366</td>\n",
       "      <td>0.033622</td>\n",
       "      <td>0.019755</td>\n",
       "      <td>0.051129</td>\n",
       "      <td>5</td>\n",
       "    </tr>\n",
       "    <tr>\n",
       "      <th>1</th>\n",
       "      <td>0.015107</td>\n",
       "      <td>0.042163</td>\n",
       "      <td>0.027218</td>\n",
       "      <td>0.066016</td>\n",
       "      <td>5</td>\n",
       "    </tr>\n",
       "    <tr>\n",
       "      <th>2</th>\n",
       "      <td>0.021128</td>\n",
       "      <td>0.048342</td>\n",
       "      <td>0.036074</td>\n",
       "      <td>0.073334</td>\n",
       "      <td>5</td>\n",
       "    </tr>\n",
       "    <tr>\n",
       "      <th>3</th>\n",
       "      <td>0.008867</td>\n",
       "      <td>0.038759</td>\n",
       "      <td>0.027440</td>\n",
       "      <td>0.048807</td>\n",
       "      <td>5</td>\n",
       "    </tr>\n",
       "    <tr>\n",
       "      <th>4</th>\n",
       "      <td>0.005918</td>\n",
       "      <td>0.039020</td>\n",
       "      <td>0.025115</td>\n",
       "      <td>0.030302</td>\n",
       "      <td>5</td>\n",
       "    </tr>\n",
       "  </tbody>\n",
       "</table>\n",
       "</div>"
      ],
      "text/plain": [
       "    scores0   scores1   scores2   scores3  labels\n",
       "0  0.015366  0.033622  0.019755  0.051129       5\n",
       "1  0.015107  0.042163  0.027218  0.066016       5\n",
       "2  0.021128  0.048342  0.036074  0.073334       5\n",
       "3  0.008867  0.038759  0.027440  0.048807       5\n",
       "4  0.005918  0.039020  0.025115  0.030302       5"
      ]
     },
     "execution_count": 6,
     "metadata": {},
     "output_type": "execute_result"
    }
   ],
   "source": [
    "df.head()"
   ]
  },
  {
   "cell_type": "code",
   "execution_count": 7,
   "id": "634524f3",
   "metadata": {},
   "outputs": [],
   "source": [
    "df.to_csv('ae_scores.csv')"
   ]
  }
 ],
 "metadata": {
  "kernelspec": {
   "display_name": "Python (pytorch_venv)",
   "language": "python",
   "name": "pytorch_venv"
  },
  "language_info": {
   "codemirror_mode": {
    "name": "ipython",
    "version": 3
   },
   "file_extension": ".py",
   "mimetype": "text/x-python",
   "name": "python",
   "nbconvert_exporter": "python",
   "pygments_lexer": "ipython3",
   "version": "3.11.4"
  }
 },
 "nbformat": 4,
 "nbformat_minor": 5
}
