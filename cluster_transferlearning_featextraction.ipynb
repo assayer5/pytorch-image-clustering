{
 "cells": [
  {
   "cell_type": "code",
   "execution_count": 1,
   "metadata": {
    "execution": {
     "iopub.execute_input": "2023-08-06T05:36:56.233989Z",
     "iopub.status.busy": "2023-08-06T05:36:56.232931Z",
     "iopub.status.idle": "2023-08-06T05:37:02.306024Z",
     "shell.execute_reply": "2023-08-06T05:37:02.304985Z",
     "shell.execute_reply.started": "2023-08-06T05:36:56.233942Z"
    }
   },
   "outputs": [
    {
     "name": "stderr",
     "output_type": "stream",
     "text": [
      "/opt/conda/lib/python3.10/site-packages/scipy/__init__.py:146: UserWarning: A NumPy version >=1.16.5 and <1.23.0 is required for this version of SciPy (detected version 1.23.5\n",
      "  warnings.warn(f\"A NumPy version >={np_minversion} and <{np_maxversion}\"\n"
     ]
    }
   ],
   "source": [
    "import numpy as np \n",
    "import pandas as pd\n",
    "import matplotlib.pyplot as plt\n",
    "from sklearn.cluster import KMeans, BisectingKMeans\n",
    "\n",
    "import torch\n",
    "from torch.utils.data import DataLoader, Subset\n",
    "\n",
    "import torchvision.datasets as datasets\n",
    "from torchvision import transforms\n",
    "from torchvision.models import efficientnet_v2_s, EfficientNet_V2_S_Weights\n",
    "from torchvision.models.feature_extraction import get_graph_node_names, create_feature_extractor"
   ]
  },
  {
   "cell_type": "code",
   "execution_count": 2,
   "metadata": {
    "execution": {
     "iopub.execute_input": "2023-08-06T05:37:02.309429Z",
     "iopub.status.busy": "2023-08-06T05:37:02.307971Z",
     "iopub.status.idle": "2023-08-06T05:37:04.109328Z",
     "shell.execute_reply": "2023-08-06T05:37:04.107943Z",
     "shell.execute_reply.started": "2023-08-06T05:37:02.309389Z"
    }
   },
   "outputs": [
    {
     "name": "stdout",
     "output_type": "stream",
     "text": [
      "Downloading http://yann.lecun.com/exdb/mnist/train-images-idx3-ubyte.gz\n",
      "Downloading http://yann.lecun.com/exdb/mnist/train-images-idx3-ubyte.gz to dataset/MNIST/raw/train-images-idx3-ubyte.gz\n"
     ]
    },
    {
     "name": "stderr",
     "output_type": "stream",
     "text": [
      "100%|██████████| 9912422/9912422 [00:00<00:00, 73513117.64it/s]\n"
     ]
    },
    {
     "name": "stdout",
     "output_type": "stream",
     "text": [
      "Extracting dataset/MNIST/raw/train-images-idx3-ubyte.gz to dataset/MNIST/raw\n",
      "\n",
      "Downloading http://yann.lecun.com/exdb/mnist/train-labels-idx1-ubyte.gz\n",
      "Downloading http://yann.lecun.com/exdb/mnist/train-labels-idx1-ubyte.gz to dataset/MNIST/raw/train-labels-idx1-ubyte.gz\n"
     ]
    },
    {
     "name": "stderr",
     "output_type": "stream",
     "text": [
      "100%|██████████| 28881/28881 [00:00<00:00, 74089109.37it/s]\n"
     ]
    },
    {
     "name": "stdout",
     "output_type": "stream",
     "text": [
      "Extracting dataset/MNIST/raw/train-labels-idx1-ubyte.gz to dataset/MNIST/raw\n",
      "\n",
      "Downloading http://yann.lecun.com/exdb/mnist/t10k-images-idx3-ubyte.gz\n",
      "Downloading http://yann.lecun.com/exdb/mnist/t10k-images-idx3-ubyte.gz to dataset/MNIST/raw/t10k-images-idx3-ubyte.gz\n"
     ]
    },
    {
     "name": "stderr",
     "output_type": "stream",
     "text": [
      "100%|██████████| 1648877/1648877 [00:00<00:00, 20310033.59it/s]\n"
     ]
    },
    {
     "name": "stdout",
     "output_type": "stream",
     "text": [
      "Extracting dataset/MNIST/raw/t10k-images-idx3-ubyte.gz to dataset/MNIST/raw\n",
      "\n",
      "Downloading http://yann.lecun.com/exdb/mnist/t10k-labels-idx1-ubyte.gz\n",
      "Downloading http://yann.lecun.com/exdb/mnist/t10k-labels-idx1-ubyte.gz to dataset/MNIST/raw/t10k-labels-idx1-ubyte.gz\n"
     ]
    },
    {
     "name": "stderr",
     "output_type": "stream",
     "text": [
      "100%|██████████| 4542/4542 [00:00<00:00, 16171925.95it/s]"
     ]
    },
    {
     "name": "stdout",
     "output_type": "stream",
     "text": [
      "Extracting dataset/MNIST/raw/t10k-labels-idx1-ubyte.gz to dataset/MNIST/raw\n",
      "\n"
     ]
    },
    {
     "name": "stderr",
     "output_type": "stream",
     "text": [
      "\n"
     ]
    }
   ],
   "source": [
    "# get dataset\n",
    "# transform from 1 channel to 3 channel image for model that expects 3 channel input\n",
    "trans = transforms.Compose([transforms.Grayscale(num_output_channels=3),transforms.ToTensor()])\n",
    "dataset = datasets.MNIST(root='dataset/', train=True, transform=trans, download=True)"
   ]
  },
  {
   "cell_type": "code",
   "execution_count": 3,
   "metadata": {
    "execution": {
     "iopub.execute_input": "2023-08-06T05:37:04.111131Z",
     "iopub.status.busy": "2023-08-06T05:37:04.110708Z",
     "iopub.status.idle": "2023-08-06T05:37:04.118022Z",
     "shell.execute_reply": "2023-08-06T05:37:04.116534Z",
     "shell.execute_reply.started": "2023-08-06T05:37:04.111088Z"
    }
   },
   "outputs": [],
   "source": [
    "DEVICE = torch.device('cuda' if torch.cuda.is_available() else 'cpu')\n",
    "BATCH_SIZE = 64"
   ]
  },
  {
   "cell_type": "code",
   "execution_count": 4,
   "metadata": {
    "execution": {
     "iopub.execute_input": "2023-08-06T05:37:04.122694Z",
     "iopub.status.busy": "2023-08-06T05:37:04.121593Z",
     "iopub.status.idle": "2023-08-06T05:37:56.365533Z",
     "shell.execute_reply": "2023-08-06T05:37:56.364303Z",
     "shell.execute_reply.started": "2023-08-06T05:37:04.122651Z"
    }
   },
   "outputs": [
    {
     "name": "stdout",
     "output_type": "stream",
     "text": [
      "400\n"
     ]
    }
   ],
   "source": [
    "# get data subsets\n",
    "# get indicies of 5, 6, 8, 9\n",
    "# similar shapes, more difficult to group into clusters?\n",
    "idx5 = [i for i, (_, label) in enumerate(dataset) if label == 5]\n",
    "idx6 = [i for i, (_, label) in enumerate(dataset) if label == 6]\n",
    "idx8 = [i for i, (_, label) in enumerate(dataset) if label == 8]\n",
    "idx9 = [i for i, (_, label) in enumerate(dataset) if label == 9]\n",
    "\n",
    "# create dataloaders\n",
    "# data for training\n",
    "five_loader = DataLoader(dataset=Subset(dataset, idx5[:-100]), batch_size=BATCH_SIZE, shuffle=True)\n",
    "six_loader = DataLoader(dataset=Subset(dataset, idx6[:-100]), batch_size=BATCH_SIZE, shuffle=True)\n",
    "eight_loader = DataLoader(dataset=Subset(dataset, idx8[:-100]), batch_size=BATCH_SIZE, shuffle=True)\n",
    "nine_loader = DataLoader(dataset=Subset(dataset, idx9[:-100]), batch_size=BATCH_SIZE, shuffle=True)\n",
    "\n",
    "# data to cluster\n",
    "idx5689 = np.hstack([idx5[-100:], idx6[-100:], idx8[-100:], idx9[-100:]])\n",
    "print(len(idx5689))\n",
    "test5689_loader = DataLoader(dataset=Subset(dataset, idx5689), batch_size=BATCH_SIZE, shuffle=False)"
   ]
  },
  {
   "cell_type": "code",
   "execution_count": 5,
   "metadata": {
    "execution": {
     "iopub.execute_input": "2023-08-06T05:37:56.367742Z",
     "iopub.status.busy": "2023-08-06T05:37:56.367227Z",
     "iopub.status.idle": "2023-08-06T05:37:58.975639Z",
     "shell.execute_reply": "2023-08-06T05:37:58.974234Z",
     "shell.execute_reply.started": "2023-08-06T05:37:56.367695Z"
    }
   },
   "outputs": [
    {
     "name": "stderr",
     "output_type": "stream",
     "text": [
      "Downloading: \"https://download.pytorch.org/models/efficientnet_v2_s-dd5fe13b.pth\" to /root/.cache/torch/hub/checkpoints/efficientnet_v2_s-dd5fe13b.pth\n",
      "100%|██████████| 82.7M/82.7M [00:01<00:00, 54.2MB/s]\n"
     ]
    },
    {
     "data": {
      "text/plain": [
       "ImageClassification(\n",
       "    crop_size=[384]\n",
       "    resize_size=[384]\n",
       "    mean=[0.485, 0.456, 0.406]\n",
       "    std=[0.229, 0.224, 0.225]\n",
       "    interpolation=InterpolationMode.BILINEAR\n",
       ")"
      ]
     },
     "execution_count": 5,
     "metadata": {},
     "output_type": "execute_result"
    }
   ],
   "source": [
    "# model pretrained with default weights\n",
    "weights = EfficientNet_V2_S_Weights.DEFAULT\n",
    "model = efficientnet_v2_s(weights=weights).to(DEVICE)\n",
    "model.eval()\n",
    "\n",
    "# get expected preprocessing steps\n",
    "preprocessing = weights.transforms(antialias=True)\n",
    "preprocessing"
   ]
  },
  {
   "cell_type": "code",
   "execution_count": 6,
   "metadata": {
    "execution": {
     "iopub.execute_input": "2023-08-06T05:37:58.977777Z",
     "iopub.status.busy": "2023-08-06T05:37:58.977303Z",
     "iopub.status.idle": "2023-08-06T05:37:59.332996Z",
     "shell.execute_reply": "2023-08-06T05:37:59.331445Z",
     "shell.execute_reply.started": "2023-08-06T05:37:58.977730Z"
    }
   },
   "outputs": [],
   "source": [
    "# choose last layer of model for feature extraction\n",
    "return_nodes = {'flatten': 'flatten'}\n",
    "feature_extractor = create_feature_extractor(model, return_nodes=return_nodes)"
   ]
  },
  {
   "cell_type": "code",
   "execution_count": 7,
   "metadata": {
    "execution": {
     "iopub.execute_input": "2023-08-06T05:37:59.336207Z",
     "iopub.status.busy": "2023-08-06T05:37:59.335224Z",
     "iopub.status.idle": "2023-08-06T05:41:02.564694Z",
     "shell.execute_reply": "2023-08-06T05:41:02.563241Z",
     "shell.execute_reply.started": "2023-08-06T05:37:59.336094Z"
    }
   },
   "outputs": [
    {
     "name": "stdout",
     "output_type": "stream",
     "text": [
      "......."
     ]
    }
   ],
   "source": [
    "# extract features from data\n",
    "imgfeats = []\n",
    "imglabels = []\n",
    "for i, (imgs, labels) in enumerate(test5689_loader):\n",
    "    print('.', end='')\n",
    "    imgs = imgs.to(DEVICE)\n",
    "    # preprocess images\n",
    "    model_input = preprocessing(imgs)\n",
    "    \n",
    "    # extract the features\n",
    "    with torch.no_grad():\n",
    "        # dict of extracted features\n",
    "        features = feature_extractor(model_input)\n",
    "    # get last feature\n",
    "    feat_array = features['flatten'].cpu().detach().numpy()\n",
    "    imgfeats.append(feat_array)\n",
    "    imglabels.append(labels)\n",
    "    "
   ]
  },
  {
   "cell_type": "code",
   "execution_count": 8,
   "metadata": {
    "execution": {
     "iopub.execute_input": "2023-08-06T05:41:02.567119Z",
     "iopub.status.busy": "2023-08-06T05:41:02.566712Z",
     "iopub.status.idle": "2023-08-06T05:41:02.575525Z",
     "shell.execute_reply": "2023-08-06T05:41:02.574039Z",
     "shell.execute_reply.started": "2023-08-06T05:41:02.567083Z"
    }
   },
   "outputs": [
    {
     "name": "stdout",
     "output_type": "stream",
     "text": [
      "(400, 1280) (400,)\n"
     ]
    }
   ],
   "source": [
    "# put extracted features into array\n",
    "allimgfeats = np.vstack(imgfeats)\n",
    "alllabels = np.hstack(imglabels)\n",
    "print(allimgfeats.shape, alllabels.shape)"
   ]
  },
  {
   "cell_type": "code",
   "execution_count": 9,
   "metadata": {
    "execution": {
     "iopub.execute_input": "2023-08-06T05:41:02.577864Z",
     "iopub.status.busy": "2023-08-06T05:41:02.577379Z",
     "iopub.status.idle": "2023-08-06T05:41:02.589115Z",
     "shell.execute_reply": "2023-08-06T05:41:02.587756Z",
     "shell.execute_reply.started": "2023-08-06T05:41:02.577819Z"
    }
   },
   "outputs": [
    {
     "name": "stdout",
     "output_type": "stream",
     "text": [
      "num non-zero feats: 371\n",
      "shape of non zero feats: (400, 371)\n"
     ]
    }
   ],
   "source": [
    "# only keep features that aren't all zero\n",
    "print(f'num non-zero feats: {np.sum(np.sum(allimgfeats, axis=0) > 0)}')\n",
    "nonzerofeats = allimgfeats[:, np.sum(allimgfeats, axis=0) > 0]\n",
    "print(f'shape of non zero feats: {nonzerofeats.shape}')"
   ]
  },
  {
   "cell_type": "code",
   "execution_count": 10,
   "metadata": {
    "execution": {
     "iopub.execute_input": "2023-08-06T05:41:02.594469Z",
     "iopub.status.busy": "2023-08-06T05:41:02.594002Z",
     "iopub.status.idle": "2023-08-06T05:41:04.101636Z",
     "shell.execute_reply": "2023-08-06T05:41:04.100133Z",
     "shell.execute_reply.started": "2023-08-06T05:41:02.594432Z"
    }
   },
   "outputs": [
    {
     "data": {
      "text/plain": [
       "[<matplotlib.lines.Line2D at 0x7eb0c8f9fd90>]"
      ]
     },
     "execution_count": 10,
     "metadata": {},
     "output_type": "execute_result"
    },
    {
     "data": {
      "image/png": "[encoded data removed]",
      "text/plain": [
       "<Figure size 640x480 with 1 Axes>"
      ]
     },
     "metadata": {},
     "output_type": "display_data"
    }
   ],
   "source": [
    "# cluster on non-zero feat, check num of clusters\n",
    "ssds = []\n",
    "ns = []\n",
    "for n in range(2, 8, 2):\n",
    "    km = KMeans(n_clusters=n, n_init=5, init='k-means++')\n",
    "    kmclust = km.fit_predict(nonzerofeats)\n",
    "    ssds.append(km.inertia_)\n",
    "    ns.append(n)\n",
    "    \n",
    "plt.plot(ns, ssds)"
   ]
  },
  {
   "cell_type": "code",
   "execution_count": 11,
   "metadata": {
    "execution": {
     "iopub.execute_input": "2023-08-06T05:41:04.103887Z",
     "iopub.status.busy": "2023-08-06T05:41:04.103399Z",
     "iopub.status.idle": "2023-08-06T05:41:04.390031Z",
     "shell.execute_reply": "2023-08-06T05:41:04.388976Z",
     "shell.execute_reply.started": "2023-08-06T05:41:04.103843Z"
    }
   },
   "outputs": [],
   "source": [
    "# cluster with k-means, 4 clusters\n",
    "km = KMeans(n_clusters=4, n_init=5, init='k-means++')\n",
    "kmclust = km.fit_predict(nonzerofeats)"
   ]
  },
  {
   "cell_type": "code",
   "execution_count": 12,
   "metadata": {
    "execution": {
     "iopub.execute_input": "2023-08-06T05:41:04.393774Z",
     "iopub.status.busy": "2023-08-06T05:41:04.391694Z",
     "iopub.status.idle": "2023-08-06T05:41:04.405674Z",
     "shell.execute_reply": "2023-08-06T05:41:04.403752Z",
     "shell.execute_reply.started": "2023-08-06T05:41:04.393716Z"
    }
   },
   "outputs": [],
   "source": [
    "# put clusters and labels in df\n",
    "resdf = pd.DataFrame({'labels': alllabels, 'km': kmclust})"
   ]
  },
  {
   "cell_type": "code",
   "execution_count": 13,
   "metadata": {
    "execution": {
     "iopub.execute_input": "2023-08-06T05:41:04.408246Z",
     "iopub.status.busy": "2023-08-06T05:41:04.407651Z",
     "iopub.status.idle": "2023-08-06T05:41:05.474146Z",
     "shell.execute_reply": "2023-08-06T05:41:05.472942Z",
     "shell.execute_reply.started": "2023-08-06T05:41:04.408199Z"
    }
   },
   "outputs": [
    {
     "data": {
      "image/png": "[encoded data removed]",
      "text/plain": [
       "<Figure size 1500x300 with 4 Axes>"
      ]
     },
     "metadata": {},
     "output_type": "display_data"
    }
   ],
   "source": [
    "# distribution of each label in clusters\n",
    "fig, ax = plt.subplots(1,4, figsize=(15,3))\n",
    "axs = ax.ravel()\n",
    "for i in range(4):\n",
    "    axs[i].hist(resdf.loc[resdf['km']==i, 'labels'])\n",
    "    axs[i].set_title(f'cluster {i}')"
   ]
  }
 ],
 "metadata": {
  "kernelspec": {
   "display_name": "Python 3 (ipykernel)",
   "language": "python",
   "name": "python3"
  },
  "language_info": {
   "codemirror_mode": {
    "name": "ipython",
    "version": 3
   },
   "file_extension": ".py",
   "mimetype": "text/x-python",
   "name": "python",
   "nbconvert_exporter": "python",
   "pygments_lexer": "ipython3",
   "version": "3.9.16"
  }
 },
 "nbformat": 4,
 "nbformat_minor": 4
}
