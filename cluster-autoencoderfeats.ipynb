{
 "cells": [
  {
   "cell_type": "code",
   "execution_count": 1,
   "id": "eb628085",
   "metadata": {},
   "outputs": [],
   "source": [
    "import numpy as np \n",
    "import pandas as pd\n",
    "import matplotlib.pyplot as plt\n",
    "from sklearn.cluster import KMeans, BisectingKMeans\n",
    "\n",
    "import warnings\n",
    "warnings.filterwarnings('ignore')"
   ]
  },
  {
   "cell_type": "code",
   "execution_count": 2,
   "id": "a38fea94",
   "metadata": {},
   "outputs": [
    {
     "data": {
      "text/html": [
       "<div>\n",
       "<style scoped>\n",
       "    .dataframe tbody tr th:only-of-type {\n",
       "        vertical-align: middle;\n",
       "    }\n",
       "\n",
       "    .dataframe tbody tr th {\n",
       "        vertical-align: top;\n",
       "    }\n",
       "\n",
       "    .dataframe thead th {\n",
       "        text-align: right;\n",
       "    }\n",
       "</style>\n",
       "<table border=\"1\" class=\"dataframe\">\n",
       "  <thead>\n",
       "    <tr style=\"text-align: right;\">\n",
       "      <th></th>\n",
       "      <th>scores0</th>\n",
       "      <th>scores1</th>\n",
       "      <th>scores2</th>\n",
       "      <th>scores3</th>\n",
       "      <th>labels</th>\n",
       "    </tr>\n",
       "  </thead>\n",
       "  <tbody>\n",
       "    <tr>\n",
       "      <th>0</th>\n",
       "      <td>0.015366</td>\n",
       "      <td>0.033622</td>\n",
       "      <td>0.019755</td>\n",
       "      <td>0.051129</td>\n",
       "      <td>5</td>\n",
       "    </tr>\n",
       "    <tr>\n",
       "      <th>1</th>\n",
       "      <td>0.015107</td>\n",
       "      <td>0.042163</td>\n",
       "      <td>0.027218</td>\n",
       "      <td>0.066016</td>\n",
       "      <td>5</td>\n",
       "    </tr>\n",
       "    <tr>\n",
       "      <th>2</th>\n",
       "      <td>0.021128</td>\n",
       "      <td>0.048342</td>\n",
       "      <td>0.036074</td>\n",
       "      <td>0.073334</td>\n",
       "      <td>5</td>\n",
       "    </tr>\n",
       "    <tr>\n",
       "      <th>3</th>\n",
       "      <td>0.008867</td>\n",
       "      <td>0.038759</td>\n",
       "      <td>0.027440</td>\n",
       "      <td>0.048807</td>\n",
       "      <td>5</td>\n",
       "    </tr>\n",
       "    <tr>\n",
       "      <th>4</th>\n",
       "      <td>0.005918</td>\n",
       "      <td>0.039020</td>\n",
       "      <td>0.025115</td>\n",
       "      <td>0.030302</td>\n",
       "      <td>5</td>\n",
       "    </tr>\n",
       "  </tbody>\n",
       "</table>\n",
       "</div>"
      ],
      "text/plain": [
       "    scores0   scores1   scores2   scores3  labels\n",
       "0  0.015366  0.033622  0.019755  0.051129       5\n",
       "1  0.015107  0.042163  0.027218  0.066016       5\n",
       "2  0.021128  0.048342  0.036074  0.073334       5\n",
       "3  0.008867  0.038759  0.027440  0.048807       5\n",
       "4  0.005918  0.039020  0.025115  0.030302       5"
      ]
     },
     "execution_count": 2,
     "metadata": {},
     "output_type": "execute_result"
    }
   ],
   "source": [
    "df = pd.read_csv('./ae_scores.csv', index_col=0)\n",
    "df.head()"
   ]
  },
  {
   "cell_type": "code",
   "execution_count": 3,
   "id": "03511584",
   "metadata": {},
   "outputs": [
    {
     "data": {
      "text/html": [
       "<div>\n",
       "<style scoped>\n",
       "    .dataframe tbody tr th:only-of-type {\n",
       "        vertical-align: middle;\n",
       "    }\n",
       "\n",
       "    .dataframe tbody tr th {\n",
       "        vertical-align: top;\n",
       "    }\n",
       "\n",
       "    .dataframe thead th {\n",
       "        text-align: right;\n",
       "    }\n",
       "</style>\n",
       "<table border=\"1\" class=\"dataframe\">\n",
       "  <thead>\n",
       "    <tr style=\"text-align: right;\">\n",
       "      <th></th>\n",
       "      <th>scores0</th>\n",
       "      <th>scores1</th>\n",
       "      <th>scores2</th>\n",
       "      <th>scores3</th>\n",
       "    </tr>\n",
       "  </thead>\n",
       "  <tbody>\n",
       "    <tr>\n",
       "      <th>0</th>\n",
       "      <td>0.015366</td>\n",
       "      <td>0.033622</td>\n",
       "      <td>0.019755</td>\n",
       "      <td>0.051129</td>\n",
       "    </tr>\n",
       "    <tr>\n",
       "      <th>1</th>\n",
       "      <td>0.015107</td>\n",
       "      <td>0.042163</td>\n",
       "      <td>0.027218</td>\n",
       "      <td>0.066016</td>\n",
       "    </tr>\n",
       "    <tr>\n",
       "      <th>2</th>\n",
       "      <td>0.021128</td>\n",
       "      <td>0.048342</td>\n",
       "      <td>0.036074</td>\n",
       "      <td>0.073334</td>\n",
       "    </tr>\n",
       "    <tr>\n",
       "      <th>3</th>\n",
       "      <td>0.008867</td>\n",
       "      <td>0.038759</td>\n",
       "      <td>0.027440</td>\n",
       "      <td>0.048807</td>\n",
       "    </tr>\n",
       "    <tr>\n",
       "      <th>4</th>\n",
       "      <td>0.005918</td>\n",
       "      <td>0.039020</td>\n",
       "      <td>0.025115</td>\n",
       "      <td>0.030302</td>\n",
       "    </tr>\n",
       "  </tbody>\n",
       "</table>\n",
       "</div>"
      ],
      "text/plain": [
       "    scores0   scores1   scores2   scores3\n",
       "0  0.015366  0.033622  0.019755  0.051129\n",
       "1  0.015107  0.042163  0.027218  0.066016\n",
       "2  0.021128  0.048342  0.036074  0.073334\n",
       "3  0.008867  0.038759  0.027440  0.048807\n",
       "4  0.005918  0.039020  0.025115  0.030302"
      ]
     },
     "execution_count": 3,
     "metadata": {},
     "output_type": "execute_result"
    }
   ],
   "source": [
    "labels = df.pop('labels')\n",
    "df.head()"
   ]
  },
  {
   "cell_type": "code",
   "execution_count": 4,
   "id": "64d77be6",
   "metadata": {},
   "outputs": [
    {
     "data": {
      "text/plain": [
       "Text(0, 0.5, 'ssd')"
      ]
     },
     "execution_count": 4,
     "metadata": {},
     "output_type": "execute_result"
    },
    {
     "data": {
      "image/png": "[encoded data removed]",
      "text/plain": [
       "<Figure size 640x480 with 1 Axes>"
      ]
     },
     "metadata": {},
     "output_type": "display_data"
    }
   ],
   "source": [
    "# cluster on scores with different num of clusters\n",
    "# choose num of clusters based on ssd\n",
    "ssds = []\n",
    "ns = []\n",
    "for n in range(2, 8, 2):\n",
    "    km = KMeans(n_clusters=n, n_init=5, init='k-means++')\n",
    "    kmclust = km.fit_predict(df)\n",
    "    ssds.append(km.inertia_)\n",
    "    ns.append(n)\n",
    "    \n",
    "plt.plot(ns, ssds)\n",
    "plt.xlabel('# clusters')\n",
    "plt.ylabel('ssd')\n",
    "\n",
    "# bkm = BisectingKMeans(n_clusters=10, n_init=5, init='k-means++', bisecting_strategy='biggest_inertia')\n",
    "# bkmclust = bkm.fit_predict(nonzerofeats)"
   ]
  },
  {
   "cell_type": "code",
   "execution_count": 5,
   "id": "409388ba",
   "metadata": {},
   "outputs": [],
   "source": [
    "# k-means with 4 clusters\n",
    "km = KMeans(n_clusters=4, n_init=5, init='k-means++')\n",
    "kmclust = km.fit_predict(df)"
   ]
  },
  {
   "cell_type": "code",
   "execution_count": 6,
   "id": "bf3e70be",
   "metadata": {},
   "outputs": [
    {
     "data": {
      "text/html": [
       "<div>\n",
       "<style scoped>\n",
       "    .dataframe tbody tr th:only-of-type {\n",
       "        vertical-align: middle;\n",
       "    }\n",
       "\n",
       "    .dataframe tbody tr th {\n",
       "        vertical-align: top;\n",
       "    }\n",
       "\n",
       "    .dataframe thead th {\n",
       "        text-align: right;\n",
       "    }\n",
       "</style>\n",
       "<table border=\"1\" class=\"dataframe\">\n",
       "  <thead>\n",
       "    <tr style=\"text-align: right;\">\n",
       "      <th></th>\n",
       "      <th>scores0</th>\n",
       "      <th>scores1</th>\n",
       "      <th>scores2</th>\n",
       "      <th>scores3</th>\n",
       "      <th>kmclust</th>\n",
       "      <th>labels</th>\n",
       "    </tr>\n",
       "  </thead>\n",
       "  <tbody>\n",
       "    <tr>\n",
       "      <th>0</th>\n",
       "      <td>0.015366</td>\n",
       "      <td>0.033622</td>\n",
       "      <td>0.019755</td>\n",
       "      <td>0.051129</td>\n",
       "      <td>3</td>\n",
       "      <td>5</td>\n",
       "    </tr>\n",
       "    <tr>\n",
       "      <th>1</th>\n",
       "      <td>0.015107</td>\n",
       "      <td>0.042163</td>\n",
       "      <td>0.027218</td>\n",
       "      <td>0.066016</td>\n",
       "      <td>3</td>\n",
       "      <td>5</td>\n",
       "    </tr>\n",
       "    <tr>\n",
       "      <th>2</th>\n",
       "      <td>0.021128</td>\n",
       "      <td>0.048342</td>\n",
       "      <td>0.036074</td>\n",
       "      <td>0.073334</td>\n",
       "      <td>2</td>\n",
       "      <td>5</td>\n",
       "    </tr>\n",
       "    <tr>\n",
       "      <th>3</th>\n",
       "      <td>0.008867</td>\n",
       "      <td>0.038759</td>\n",
       "      <td>0.027440</td>\n",
       "      <td>0.048807</td>\n",
       "      <td>3</td>\n",
       "      <td>5</td>\n",
       "    </tr>\n",
       "    <tr>\n",
       "      <th>4</th>\n",
       "      <td>0.005918</td>\n",
       "      <td>0.039020</td>\n",
       "      <td>0.025115</td>\n",
       "      <td>0.030302</td>\n",
       "      <td>3</td>\n",
       "      <td>5</td>\n",
       "    </tr>\n",
       "  </tbody>\n",
       "</table>\n",
       "</div>"
      ],
      "text/plain": [
       "    scores0   scores1   scores2   scores3  kmclust  labels\n",
       "0  0.015366  0.033622  0.019755  0.051129        3       5\n",
       "1  0.015107  0.042163  0.027218  0.066016        3       5\n",
       "2  0.021128  0.048342  0.036074  0.073334        2       5\n",
       "3  0.008867  0.038759  0.027440  0.048807        3       5\n",
       "4  0.005918  0.039020  0.025115  0.030302        3       5"
      ]
     },
     "execution_count": 6,
     "metadata": {},
     "output_type": "execute_result"
    }
   ],
   "source": [
    "df['kmclust'] = kmclust\n",
    "df['labels'] = labels\n",
    "df.head()"
   ]
  },
  {
   "cell_type": "code",
   "execution_count": 7,
   "id": "39fbd3a8",
   "metadata": {},
   "outputs": [
    {
     "data": {
      "text/plain": [
       "3    112\n",
       "1    105\n",
       "0    101\n",
       "2     82\n",
       "Name: kmclust, dtype: int64"
      ]
     },
     "execution_count": 7,
     "metadata": {},
     "output_type": "execute_result"
    }
   ],
   "source": [
    "df.kmclust.value_counts()"
   ]
  },
  {
   "cell_type": "code",
   "execution_count": 8,
   "id": "18480908",
   "metadata": {},
   "outputs": [
    {
     "data": {
      "image/png": "[encoded data removed]",
      "text/plain": [
       "<Figure size 1500x300 with 4 Axes>"
      ]
     },
     "metadata": {},
     "output_type": "display_data"
    }
   ],
   "source": [
    "# distribution of each label within clusters\n",
    "fig, ax = plt.subplots(1,4, figsize=(15,3))\n",
    "axs = ax.ravel()\n",
    "for i in range(4):\n",
    "    axs[i].hist(df.loc[df['kmclust']== i, 'labels'])\n",
    "    axs[i].set_title(f'cluster {i}')\n",
    "    axs[i].set_xlabel('true label')"
   ]
  },
  {
   "cell_type": "code",
   "execution_count": null,
   "id": "449790b8",
   "metadata": {},
   "outputs": [],
   "source": []
  }
 ],
 "metadata": {
  "kernelspec": {
   "display_name": "Python 3 (ipykernel)",
   "language": "python",
   "name": "python3"
  },
  "language_info": {
   "codemirror_mode": {
    "name": "ipython",
    "version": 3
   },
   "file_extension": ".py",
   "mimetype": "text/x-python",
   "name": "python",
   "nbconvert_exporter": "python",
   "pygments_lexer": "ipython3",
   "version": "3.9.16"
  }
 },
 "nbformat": 4,
 "nbformat_minor": 5
}
